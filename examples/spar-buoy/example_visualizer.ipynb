{
 "cells": [
  {
   "cell_type": "code",
   "execution_count": 3,
   "metadata": {},
   "outputs": [],
   "source": [
    "import openmdao.api as om\n",
    "import matplotlib.pyplot as plt\n",
    "import os\n",
    "import time\n",
    "import yaml\n",
    "import streamlit as st"
   ]
  },
  {
   "cell_type": "code",
   "execution_count": null,
   "metadata": {},
   "outputs": [
    {
     "name": "stdout",
     "output_type": "stream",
     "text": [
      "objectives =  [{'weighted_raft_opt.weighted_multi_obj': array([1.36787787])}, {'weighted_raft_opt.weighted_multi_obj': array([1.36787787])}, {'weighted_raft_opt.weighted_multi_obj': array([1.34508795])}, {'weighted_raft_opt.weighted_multi_obj': array([1.23287215])}, {'weighted_raft_opt.weighted_multi_obj': array([1.16019912])}]\n"
     ]
    },
    {
     "ename": "KeyError",
     "evalue": "'Variable name \"mass_fowt\" not found.'",
     "output_type": "error",
     "traceback": [
      "\u001b[1;31m---------------------------------------------------------------------------\u001b[0m",
      "\u001b[1;31mKeyError\u001b[0m                                  Traceback (most recent call last)",
      "Cell \u001b[1;32mIn[4], line 41\u001b[0m\n\u001b[0;32m     39\u001b[0m obj_plots \u001b[38;5;241m=\u001b[39m {}\n\u001b[0;32m     40\u001b[0m \u001b[38;5;28;01mfor\u001b[39;00m key \u001b[38;5;129;01min\u001b[39;00m obj_name:\n\u001b[1;32m---> 41\u001b[0m     obj_plots\u001b[38;5;241m.\u001b[39mupdate({key: [obj[key][\u001b[38;5;241m0\u001b[39m] \u001b[38;5;28;01mfor\u001b[39;00m obj \u001b[38;5;129;01min\u001b[39;00m objectives]})  \u001b[38;5;66;03m# Replace 'objective_name' with your objective's name\u001b[39;00m\n\u001b[0;32m     43\u001b[0m const_plots \u001b[38;5;241m=\u001b[39m {}\n\u001b[0;32m     44\u001b[0m \u001b[38;5;28;01mfor\u001b[39;00m key \u001b[38;5;129;01min\u001b[39;00m const_name\u001b[38;5;241m.\u001b[39mkeys():\n",
      "Cell \u001b[1;32mIn[4], line 41\u001b[0m, in \u001b[0;36m<listcomp>\u001b[1;34m(.0)\u001b[0m\n\u001b[0;32m     39\u001b[0m obj_plots \u001b[38;5;241m=\u001b[39m {}\n\u001b[0;32m     40\u001b[0m \u001b[38;5;28;01mfor\u001b[39;00m key \u001b[38;5;129;01min\u001b[39;00m obj_name:\n\u001b[1;32m---> 41\u001b[0m     obj_plots\u001b[38;5;241m.\u001b[39mupdate({key: [obj[key][\u001b[38;5;241m0\u001b[39m] \u001b[38;5;28;01mfor\u001b[39;00m obj \u001b[38;5;129;01min\u001b[39;00m objectives]})  \u001b[38;5;66;03m# Replace 'objective_name' with your objective's name\u001b[39;00m\n\u001b[0;32m     43\u001b[0m const_plots \u001b[38;5;241m=\u001b[39m {}\n\u001b[0;32m     44\u001b[0m \u001b[38;5;28;01mfor\u001b[39;00m key \u001b[38;5;129;01min\u001b[39;00m const_name\u001b[38;5;241m.\u001b[39mkeys():\n",
      "File \u001b[1;32mc:\\Users\\vmanivasakan3\\Anaconda3\\envs\\raft-opt-env\\Lib\\site-packages\\openmdao\\recorders\\case.py:1406\u001b[0m, in \u001b[0;36mPromAbsDict.__getitem__\u001b[1;34m(self, key)\u001b[0m\n\u001b[0;32m   1403\u001b[0m     _, prom_key \u001b[38;5;241m=\u001b[39m \u001b[38;5;28mself\u001b[39m\u001b[38;5;241m.\u001b[39m_deriv_keys(key)\n\u001b[0;32m   1404\u001b[0m     \u001b[38;5;28;01mreturn\u001b[39;00m \u001b[38;5;28msuper\u001b[39m()\u001b[38;5;241m.\u001b[39m\u001b[38;5;21m__getitem__\u001b[39m(prom_key)\n\u001b[1;32m-> 1406\u001b[0m \u001b[38;5;28;01mraise\u001b[39;00m \u001b[38;5;167;01mKeyError\u001b[39;00m(\u001b[38;5;124m'\u001b[39m\u001b[38;5;124mVariable name \u001b[39m\u001b[38;5;124m\"\u001b[39m\u001b[38;5;132;01m%s\u001b[39;00m\u001b[38;5;124m\"\u001b[39m\u001b[38;5;124m not found.\u001b[39m\u001b[38;5;124m'\u001b[39m \u001b[38;5;241m%\u001b[39m key)\n",
      "\u001b[1;31mKeyError\u001b[0m: 'Variable name \"mass_fowt\" not found.'"
     ]
    }
   ],
   "source": [
    "sql_file = 'output.sql'\n",
    "driver = om.CaseReader(sql_file)\n",
    "driver_cases = driver.get_cases('driver', recurse=False)\n",
    "iter = []\n",
    "objectives = []\n",
    "constraints = []\n",
    "design_variables = []\n",
    "\n",
    "with open(\"spar-buoy.yaml\") as file:\n",
    "    design = yaml.load(file, Loader=yaml.FullLoader)\n",
    "\n",
    "with open(\"user_input.yaml\") as file:\n",
    "    user_input = yaml.load(file, Loader=yaml.FullLoader)\n",
    "\n",
    "for i, case in enumerate(driver_cases):\n",
    "    iter.append(i)\n",
    "    objectives.append(case.get_objectives())\n",
    "    constraints.append(case.get_constraints())\n",
    "    design_variables.append(case.get_design_vars())\n",
    "\n",
    "print(\"objectives = \", objectives)\n",
    "\n",
    "obj_name = user_input['objective_function_alias']\n",
    "const_name = {}\n",
    "dv_name = {}\n",
    "if (user_input['platform']['inequality_constraints'] != 'None'):\n",
    "    const_name.update(user_input['platform']['inequality_constraints'])\n",
    "\n",
    "if (user_input['mooring']['inequality_constraints'] != 'None'):\n",
    "    const_name.update(user_input['mooring']['inequality_constraints'])\n",
    "\n",
    "if (user_input['platform']['design_variables'] != 'None'):\n",
    "    dv_name.update(user_input['platform']['design_variables'])\n",
    "\n",
    "if (user_input['mooring']['design_variables'] != 'None'):\n",
    "    dv_name.update(user_input['mooring']['design_variables'])\n",
    "\n",
    "\n",
    "obj_plots = {}\n",
    "for key in obj_name:\n",
    "    obj_plots.update({key: [obj[obj_name[key]][0] for obj in objectives]})  # Replace 'objective_name' with your objective's name\n",
    "\n",
    "const_plots = {}\n",
    "for key in const_name.keys():\n",
    "    const_plots.update({key: [con[key][0] for con in constraints]})  # Replace 'constraint_name' with your constraint's name\n",
    "\n",
    "dv_plots = {}\n",
    "for key in dv_name.keys():\n",
    "    dv_plots.update({key: [dv[key][0] for dv in design_variables]})  # Replace 'design_var_name' with your design variable's name"
   ]
  },
  {
   "cell_type": "code",
   "execution_count": null,
   "metadata": {},
   "outputs": [],
   "source": [
    "from raft_opt import visualizer"
   ]
  },
  {
   "cell_type": "code",
   "execution_count": null,
   "metadata": {},
   "outputs": [
    {
     "name": "stderr",
     "output_type": "stream",
     "text": [
      "2024-12-16 18:13:45.367 WARNING streamlit.runtime.scriptrunner_utils.script_run_context: Thread 'MainThread': missing ScriptRunContext! This warning can be ignored when running in bare mode.\n",
      "2024-12-16 18:13:45.799 \n",
      "  \u001b[33m\u001b[1mWarning:\u001b[0m to view this Streamlit app on a browser, run it with the following\n",
      "  command:\n",
      "\n",
      "    streamlit run c:\\Users\\vmanivasakan3\\Anaconda3\\envs\\raft-opt-env\\Lib\\site-packages\\ipykernel_launcher.py [ARGUMENTS]\n",
      "2024-12-16 18:13:45.800 Thread 'MainThread': missing ScriptRunContext! This warning can be ignored when running in bare mode.\n"
     ]
    },
    {
     "ename": "FileNotFoundError",
     "evalue": "[WinError 2] The system cannot find the file specified: 'dummy.sql'",
     "output_type": "error",
     "traceback": [
      "\u001b[1;31m---------------------------------------------------------------------------\u001b[0m",
      "\u001b[1;31mFileNotFoundError\u001b[0m                         Traceback (most recent call last)",
      "Cell \u001b[1;32mIn[4], line 1\u001b[0m\n\u001b[1;32m----> 1\u001b[0m visualizer\u001b[38;5;241m.\u001b[39mmain()\n",
      "File \u001b[1;32mc:\\users\\vmanivasakan3\\github_repos\\nrel_pkgs\\raft-opt\\raft_opt\\visualizer.py:68\u001b[0m, in \u001b[0;36mmain\u001b[1;34m()\u001b[0m\n\u001b[0;32m     65\u001b[0m design_var_charts \u001b[38;5;241m=\u001b[39m {}\n\u001b[0;32m     67\u001b[0m \u001b[38;5;28;01mwhile\u001b[39;00m \u001b[38;5;28;01mTrue\u001b[39;00m:\n\u001b[1;32m---> 68\u001b[0m     current_size \u001b[38;5;241m=\u001b[39m os\u001b[38;5;241m.\u001b[39mpath\u001b[38;5;241m.\u001b[39mgetsize(sql_file)\n\u001b[0;32m     70\u001b[0m     \u001b[38;5;28;01mif\u001b[39;00m current_size \u001b[38;5;241m!=\u001b[39m last_size:\n\u001b[0;32m     71\u001b[0m         cr \u001b[38;5;241m=\u001b[39m om\u001b[38;5;241m.\u001b[39mCaseReader(sql_file)\n",
      "File \u001b[1;32m<frozen genericpath>:50\u001b[0m, in \u001b[0;36mgetsize\u001b[1;34m(filename)\u001b[0m\n",
      "\u001b[1;31mFileNotFoundError\u001b[0m: [WinError 2] The system cannot find the file specified: 'dummy.sql'"
     ]
    }
   ],
   "source": [
    "visualizer.main()"
   ]
  },
  {
   "cell_type": "code",
   "execution_count": null,
   "metadata": {},
   "outputs": [],
   "source": []
  }
 ],
 "metadata": {
  "kernelspec": {
   "display_name": "raft-opt-env",
   "language": "python",
   "name": "python3"
  },
  "language_info": {
   "codemirror_mode": {
    "name": "ipython",
    "version": 3
   },
   "file_extension": ".py",
   "mimetype": "text/x-python",
   "name": "python",
   "nbconvert_exporter": "python",
   "pygments_lexer": "ipython3",
   "version": "3.11.9"
  }
 },
 "nbformat": 4,
 "nbformat_minor": 2
}
